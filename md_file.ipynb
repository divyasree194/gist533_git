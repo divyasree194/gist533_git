{
 "cells": [
  {
   "cell_type": "markdown",
   "metadata": {},
   "source": [
    "# title\n",
    "## subtites\n",
    "### heading\n",
    "#### subheading"
   ]
  },
  {
   "cell_type": "markdown",
   "metadata": {},
   "source": []
  },
  {
   "cell_type": "markdown",
   "metadata": {},
   "source": [
    "#### order list and inordered list\n",
    "- outdoor games\n",
    "  1.cricket\n",
    "  2.football\n",
    "  3.tennis\n",
    "  4.hockey\n",
    "- indoor games\n",
    "  1.carooms\n",
    "  2.chess\n",
    "  3.ludo\n",
    "  4.snake and ladders\n",
    "   "
   ]
  },
  {
   "cell_type": "markdown",
   "metadata": {},
   "source": [
    "#### how to place horizantal lines in markdown\n",
    "***\n",
    "   1.git\n",
    "   2.pandas\n",
    "   3.numpy\n",
    "   4.python\n",
    "   5.matplot lib\n",
    "   6.seabron\n",
    "***"
   ]
  },
  {
   "cell_type": "markdown",
   "metadata": {},
   "source": [
    "#### text will be converted into italic and bold\n",
    "- this is normal text\n",
    "- *this is italic text*\n",
    "- **this is bold text**\n",
    "- ***this is horizantal text***"
   ]
  },
  {
   "cell_type": "markdown",
   "metadata": {},
   "source": [
    "#### how to add hyper links using markdown\n",
    "- [Google](https://www.google.com)\n",
    "- [Facebook](https://www.facebook.com)\n",
    "- [Twitter](https://www.twitter.com)\n",
    "- [apssdc](https://www.apssdc.in)"
   ]
  },
  {
   "cell_type": "markdown",
   "metadata": {},
   "source": [
    "#### how to get images using markdown\n",
    "- ![image].https://th.bing.com/th/id/OIP.PA4s3V0qgvGWKsKemE9UtwHaLH?w=126&h=189&c=7&o=5&dpr=1.5&pid=1.7"
   ]
  },
  {
   "cell_type": "markdown",
   "metadata": {},
   "source": [
    "#### how to highlighted particular lines in makdown\n",
    "- here writing python program \n",
    "- markdown is used for digital documents\n",
    "`python\n",
    "  a=n(input('enter a number`))\n",
    "  if a%2==0:\n",
    "  print(a,`is even number`)\n",
    "  else: \n",
    "  print(a,`is odd number`)\n",
    "  `"
   ]
  },
  {
   "cell_type": "code",
   "execution_count": null,
   "metadata": {},
   "outputs": [],
   "source": []
  }
 ],
 "metadata": {
  "kernelspec": {
   "display_name": "Python 3",
   "language": "python",
   "name": "python3"
  },
  "language_info": {
   "codemirror_mode": {
    "name": "ipython",
    "version": 3
   },
   "file_extension": ".py",
   "mimetype": "text/x-python",
   "name": "python",
   "nbconvert_exporter": "python",
   "pygments_lexer": "ipython3",
   "version": "3.8.5"
  }
 },
 "nbformat": 4,
 "nbformat_minor": 4
}
